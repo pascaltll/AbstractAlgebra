{
 "cells": [
  {
   "cell_type": "code",
   "execution_count": 124,
   "id": "a12032d9",
   "metadata": {},
   "outputs": [
    {
     "name": "stdout",
     "output_type": "stream",
     "text": [
      "['5', ' ', '4', ' ', '3', ' ', '2', ' ', '1']\n"
     ]
    }
   ],
   "source": [
    "file = open(\"/home/jc/Documents/abstract_algebra/input.txt\",mode =\"r\")\n",
    "a = []\n",
    "a = file.readline()\n",
    "b = list(a)\n",
    "print(b[:])\n",
    "\n",
    "\n",
    "\n",
    "\n"
   ]
  },
  {
   "cell_type": "code",
   "execution_count": null,
   "id": "aff8669c",
   "metadata": {},
   "outputs": [],
   "source": []
  },
  {
   "cell_type": "code",
   "execution_count": null,
   "id": "4e9c313f",
   "metadata": {},
   "outputs": [],
   "source": []
  }
 ],
 "metadata": {
  "kernelspec": {
   "display_name": "Python 3 (ipykernel)",
   "language": "python",
   "name": "python3"
  },
  "language_info": {
   "codemirror_mode": {
    "name": "ipython",
    "version": 3
   },
   "file_extension": ".py",
   "mimetype": "text/x-python",
   "name": "python",
   "nbconvert_exporter": "python",
   "pygments_lexer": "ipython3",
   "version": "3.8.10"
  }
 },
 "nbformat": 4,
 "nbformat_minor": 5
}
